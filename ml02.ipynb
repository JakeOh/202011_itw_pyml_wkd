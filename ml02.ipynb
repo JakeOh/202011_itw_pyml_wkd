{
  "nbformat": 4,
  "nbformat_minor": 0,
  "metadata": {
    "colab": {
      "name": "ml02.ipynb",
      "provenance": [],
      "collapsed_sections": [
        "GautzScWcLjx"
      ],
      "authorship_tag": "ABX9TyMgxhTynq/2OjNNvrJU5mcc",
      "include_colab_link": true
    },
    "kernelspec": {
      "name": "python3",
      "display_name": "Python 3"
    }
  },
  "cells": [
    {
      "cell_type": "markdown",
      "metadata": {
        "id": "view-in-github",
        "colab_type": "text"
      },
      "source": [
        "<a href=\"https://colab.research.google.com/github/JakeOh/202011_itw_pyml_wkd/blob/main/ml02.ipynb\" target=\"_parent\"><img src=\"https://colab.research.google.com/assets/colab-badge.svg\" alt=\"Open In Colab\"/></a>"
      ]
    },
    {
      "cell_type": "markdown",
      "metadata": {
        "id": "GautzScWcLjx"
      },
      "source": [
        "# MNIST(Modified National Institute of Science and Technology) 데이터 셋\n",
        "\n",
        "* 손글씨 숫자(0, 1, 2, ..., 9) 데이터\n",
        "* 분류 알고리즘을 테스트할 때 가장 많이 사용되는 데이터 셋"
      ]
    },
    {
      "cell_type": "code",
      "metadata": {
        "id": "sovn69UMb_1P"
      },
      "source": [
        "import numpy as np\n",
        "import pandas as pd\n",
        "import matplotlib.pyplot as plt"
      ],
      "execution_count": 1,
      "outputs": []
    },
    {
      "cell_type": "code",
      "metadata": {
        "id": "L0j6gTmFdAW5"
      },
      "source": [
        "# scikit-learn 패키지에서 예제로 제공하는 MNIST 데이터 셋을 다운로드\n",
        "from sklearn.datasets import fetch_openml\n",
        "\n",
        "mnist = fetch_openml('mnist_784')"
      ],
      "execution_count": 2,
      "outputs": []
    },
    {
      "cell_type": "code",
      "metadata": {
        "colab": {
          "base_uri": "https://localhost:8080/"
        },
        "id": "TBL-Jek4dr3M",
        "outputId": "e7cdac00-f6c3-4b8d-e4d1-7bdd5ffab040"
      },
      "source": [
        "mnist.keys()"
      ],
      "execution_count": 3,
      "outputs": [
        {
          "output_type": "execute_result",
          "data": {
            "text/plain": [
              "dict_keys(['data', 'target', 'frame', 'feature_names', 'target_names', 'DESCR', 'details', 'categories', 'url'])"
            ]
          },
          "metadata": {
            "tags": []
          },
          "execution_count": 3
        }
      ]
    },
    {
      "cell_type": "code",
      "metadata": {
        "colab": {
          "base_uri": "https://localhost:8080/"
        },
        "id": "ywM37qyaezWx",
        "outputId": "c121e65e-097d-4bba-986b-6e93028f1860"
      },
      "source": [
        "print(mnist['DESCR'])  # mnist 데이터 셋에 대한 설명"
      ],
      "execution_count": 5,
      "outputs": [
        {
          "output_type": "stream",
          "text": [
            "**Author**: Yann LeCun, Corinna Cortes, Christopher J.C. Burges  \n",
            "**Source**: [MNIST Website](http://yann.lecun.com/exdb/mnist/) - Date unknown  \n",
            "**Please cite**:  \n",
            "\n",
            "The MNIST database of handwritten digits with 784 features, raw data available at: http://yann.lecun.com/exdb/mnist/. It can be split in a training set of the first 60,000 examples, and a test set of 10,000 examples  \n",
            "\n",
            "It is a subset of a larger set available from NIST. The digits have been size-normalized and centered in a fixed-size image. It is a good database for people who want to try learning techniques and pattern recognition methods on real-world data while spending minimal efforts on preprocessing and formatting. The original black and white (bilevel) images from NIST were size normalized to fit in a 20x20 pixel box while preserving their aspect ratio. The resulting images contain grey levels as a result of the anti-aliasing technique used by the normalization algorithm. the images were centered in a 28x28 image by computing the center of mass of the pixels, and translating the image so as to position this point at the center of the 28x28 field.  \n",
            "\n",
            "With some classification methods (particularly template-based methods, such as SVM and K-nearest neighbors), the error rate improves when the digits are centered by bounding box rather than center of mass. If you do this kind of pre-processing, you should report it in your publications. The MNIST database was constructed from NIST's NIST originally designated SD-3 as their training set and SD-1 as their test set. However, SD-3 is much cleaner and easier to recognize than SD-1. The reason for this can be found on the fact that SD-3 was collected among Census Bureau employees, while SD-1 was collected among high-school students. Drawing sensible conclusions from learning experiments requires that the result be independent of the choice of training set and test among the complete set of samples. Therefore it was necessary to build a new database by mixing NIST's datasets.  \n",
            "\n",
            "The MNIST training set is composed of 30,000 patterns from SD-3 and 30,000 patterns from SD-1. Our test set was composed of 5,000 patterns from SD-3 and 5,000 patterns from SD-1. The 60,000 pattern training set contained examples from approximately 250 writers. We made sure that the sets of writers of the training set and test set were disjoint. SD-1 contains 58,527 digit images written by 500 different writers. In contrast to SD-3, where blocks of data from each writer appeared in sequence, the data in SD-1 is scrambled. Writer identities for SD-1 is available and we used this information to unscramble the writers. We then split SD-1 in two: characters written by the first 250 writers went into our new training set. The remaining 250 writers were placed in our test set. Thus we had two sets with nearly 30,000 examples each. The new training set was completed with enough examples from SD-3, starting at pattern # 0, to make a full set of 60,000 training patterns. Similarly, the new test set was completed with SD-3 examples starting at pattern # 35,000 to make a full set with 60,000 test patterns. Only a subset of 10,000 test images (5,000 from SD-1 and 5,000 from SD-3) is available on this site. The full 60,000 sample training set is available.\n",
            "\n",
            "Downloaded from openml.org.\n"
          ],
          "name": "stdout"
        }
      ]
    },
    {
      "cell_type": "code",
      "metadata": {
        "id": "hSn22ZMqfT7B"
      },
      "source": [
        "X, y = mnist['data'], mnist['target']\n",
        "# X: 손글씨 이미지 데이터\n",
        "# y: 손글씨 이미지 레이블(정답)"
      ],
      "execution_count": 6,
      "outputs": []
    },
    {
      "cell_type": "code",
      "metadata": {
        "colab": {
          "base_uri": "https://localhost:8080/"
        },
        "id": "MfKgJGR5fh8a",
        "outputId": "57f7c834-9574-4597-e4d0-6b401a95dfa9"
      },
      "source": [
        "X.shape, y.shape\n",
        "#> X: 2-d array, y: 1-d array"
      ],
      "execution_count": 7,
      "outputs": [
        {
          "output_type": "execute_result",
          "data": {
            "text/plain": [
              "((70000, 784), (70000,))"
            ]
          },
          "metadata": {
            "tags": []
          },
          "execution_count": 7
        }
      ]
    },
    {
      "cell_type": "code",
      "metadata": {
        "id": "MnaICYRJgMH6"
      },
      "source": [
        "X[0]  # X의 첫번째 row의 모든 컬럼(특성) 데이터: 0 ~ 255"
      ],
      "execution_count": null,
      "outputs": []
    },
    {
      "cell_type": "code",
      "metadata": {
        "colab": {
          "base_uri": "https://localhost:8080/",
          "height": 35
        },
        "id": "4jawP5lZgnGI",
        "outputId": "51a88f2a-deda-48f9-b8e3-9bdbe5707809"
      },
      "source": [
        "y[0]  #> 문자열(str) 타입"
      ],
      "execution_count": 9,
      "outputs": [
        {
          "output_type": "execute_result",
          "data": {
            "application/vnd.google.colaboratory.intrinsic+json": {
              "type": "string"
            },
            "text/plain": [
              "'5'"
            ]
          },
          "metadata": {
            "tags": []
          },
          "execution_count": 9
        }
      ]
    },
    {
      "cell_type": "code",
      "metadata": {
        "colab": {
          "base_uri": "https://localhost:8080/",
          "height": 265
        },
        "id": "T4FjeUs2g-sY",
        "outputId": "cf091596-5cff-4768-bccf-0ea578c115c8"
      },
      "source": [
        "img = X[0].reshape((28, 28))\n",
        "plt.imshow(img, cmap=plt.cm.binary)\n",
        "plt.show()"
      ],
      "execution_count": 11,
      "outputs": [
        {
          "output_type": "display_data",
          "data": {
            "image/png": "[encoded data removed]",
            "text/plain": [
              "<Figure size 432x288 with 1 Axes>"
            ]
          },
          "metadata": {
            "tags": [],
            "needs_background": "light"
          }
        }
      ]
    },
    {
      "cell_type": "code",
      "metadata": {
        "colab": {
          "base_uri": "https://localhost:8080/",
          "height": 59
        },
        "id": "EzFHUA3DiOrf",
        "outputId": "6f9c8136-d3ef-4a28-9171-83c490fbe2cb"
      },
      "source": [
        "# 데이터 셋 X의 첫 10개 이미지를 출력\n",
        "fig, ax = plt.subplots(nrows=1, ncols=10)\n",
        "for i in range(10):\n",
        "    img = X[i].reshape((28, 28))  # 784 -> 28x28 변환\n",
        "    ax[i].imshow(img, cmap=plt.cm.binary)  # i번째 subplot에 이미지를 그림\n",
        "    ax[i].axis('off')  # 축 (레이블)을 제거\n",
        "\n",
        "plt.show()"
      ],
      "execution_count": 13,
      "outputs": [
        {
          "output_type": "display_data",
          "data": {
            "image/png": "[encoded data removed]",
            "text/plain": [
              "<Figure size 432x288 with 10 Axes>"
            ]
          },
          "metadata": {
            "tags": [],
            "needs_background": "light"
          }
        }
      ]
    },
    {
      "cell_type": "code",
      "metadata": {
        "colab": {
          "base_uri": "https://localhost:8080/"
        },
        "id": "9qHf1NDMiU9_",
        "outputId": "62bb2266-66a3-4538-bba9-6e23eb0363ff"
      },
      "source": [
        "# 레이블(타켓) y의 첫 10개 값을 출력\n",
        "y[:10]"
      ],
      "execution_count": 14,
      "outputs": [
        {
          "output_type": "execute_result",
          "data": {
            "text/plain": [
              "array(['5', '0', '4', '1', '9', '2', '1', '3', '1', '4'], dtype=object)"
            ]
          },
          "metadata": {
            "tags": []
          },
          "execution_count": 14
        }
      ]
    },
    {
      "cell_type": "code",
      "metadata": {
        "colab": {
          "base_uri": "https://localhost:8080/"
        },
        "id": "GP_cgHXakb34",
        "outputId": "5f3c3cb1-2dec-4bae-e28a-8d35dce7e568"
      },
      "source": [
        "# 레이블(타겟) y는 문자열 타입 -> 숫자로 변환\n",
        "y = y.astype(np.int16)  # 16bit(=2byte) 정수\n",
        "y[:10]"
      ],
      "execution_count": 15,
      "outputs": [
        {
          "output_type": "execute_result",
          "data": {
            "text/plain": [
              "array([5, 0, 4, 1, 9, 2, 1, 3, 1, 4], dtype=int16)"
            ]
          },
          "metadata": {
            "tags": []
          },
          "execution_count": 15
        }
      ]
    },
    {
      "cell_type": "code",
      "metadata": {
        "colab": {
          "base_uri": "https://localhost:8080/"
        },
        "id": "s_UxizFlkxc9",
        "outputId": "9f654ad1-9147-459d-e7e7-72af6687a6f5"
      },
      "source": [
        "# train/test 셋 분리\n",
        "n = 60_000  # 훈련 셋의 데이터 개수\n",
        "X_train, y_train = X[:n], y[:n]  # 0 <= i < 60_000\n",
        "X_test, y_test = X[n:], y[n:]  # 60_000 <= i < 70_000\n",
        "X_train.shape, y_train.shape, X_test.shape, y_test.shape"
      ],
      "execution_count": 17,
      "outputs": [
        {
          "output_type": "execute_result",
          "data": {
            "text/plain": [
              "((60000, 784), (60000,), (10000, 784), (10000,))"
            ]
          },
          "metadata": {
            "tags": []
          },
          "execution_count": 17
        }
      ]
    },
    {
      "cell_type": "markdown",
      "metadata": {
        "id": "_L3G0ZlvqXOr"
      },
      "source": [
        "# 2진 분류기(Binary classifier)\n",
        "\n",
        "* 양성/음성\n",
        "* 스팸/스팸X"
      ]
    },
    {
      "cell_type": "code",
      "metadata": {
        "id": "UkO_OVdXqWvd"
      },
      "source": [
        "# 5와 5가 아닌 숫자를 분류하는 문제\n",
        "y_train_5 = (y_train == 5)  # 5는 True, 다른 숫자는 False\n",
        "y_test_5 = (y_test == 5)"
      ],
      "execution_count": 18,
      "outputs": []
    },
    {
      "cell_type": "code",
      "metadata": {
        "colab": {
          "base_uri": "https://localhost:8080/"
        },
        "id": "qcpkxoAhqQxd",
        "outputId": "f09ec28f-9c9b-413f-b39e-20b798cd0ba6"
      },
      "source": [
        "y_train_5[:10]"
      ],
      "execution_count": 19,
      "outputs": [
        {
          "output_type": "execute_result",
          "data": {
            "text/plain": [
              "array([ True, False, False, False, False, False, False, False, False,\n",
              "       False])"
            ]
          },
          "metadata": {
            "tags": []
          },
          "execution_count": 19
        }
      ]
    },
    {
      "cell_type": "code",
      "metadata": {
        "id": "VyCTrvldrtUW"
      },
      "source": [
        "# 분류 알고리즘(모델) 선택\n",
        "from sklearn.linear_model import SGDClassifier"
      ],
      "execution_count": 20,
      "outputs": []
    },
    {
      "cell_type": "code",
      "metadata": {
        "id": "-YC0-XP_r671"
      },
      "source": [
        "# 머신러닝 모델 객체 생성\n",
        "sgd_clf = SGDClassifier(random_state=1)"
      ],
      "execution_count": 21,
      "outputs": []
    },
    {
      "cell_type": "code",
      "metadata": {
        "colab": {
          "base_uri": "https://localhost:8080/"
        },
        "id": "lq6lLe7wsZxH",
        "outputId": "25efc097-ff3e-4363-edea-c39819e6231a"
      },
      "source": [
        "# 모델 훈련\n",
        "sgd_clf.fit(X=X_train, y=y_train_5)"
      ],
      "execution_count": 22,
      "outputs": [
        {
          "output_type": "execute_result",
          "data": {
            "text/plain": [
              "SGDClassifier(alpha=0.0001, average=False, class_weight=None,\n",
              "              early_stopping=False, epsilon=0.1, eta0=0.0, fit_intercept=True,\n",
              "              l1_ratio=0.15, learning_rate='optimal', loss='hinge',\n",
              "              max_iter=1000, n_iter_no_change=5, n_jobs=None, penalty='l2',\n",
              "              power_t=0.5, random_state=1, shuffle=True, tol=0.001,\n",
              "              validation_fraction=0.1, verbose=0, warm_start=False)"
            ]
          },
          "metadata": {
            "tags": []
          },
          "execution_count": 22
        }
      ]
    },
    {
      "cell_type": "code",
      "metadata": {
        "colab": {
          "base_uri": "https://localhost:8080/"
        },
        "id": "ZsLiM6iCs6jf",
        "outputId": "45e994ab-9e25-4e8c-89ec-5296eff94cfd"
      },
      "source": [
        "# 훈련된 모델이 훈련 셋을 어떻게 예측하는 지.\n",
        "y_train_5_pred = sgd_clf.predict(X=X_train)\n",
        "y_train_5_pred[:10]"
      ],
      "execution_count": 23,
      "outputs": [
        {
          "output_type": "execute_result",
          "data": {
            "text/plain": [
              "array([ True, False, False, False, False, False, False, False, False,\n",
              "       False])"
            ]
          },
          "metadata": {
            "tags": []
          },
          "execution_count": 23
        }
      ]
    },
    {
      "cell_type": "code",
      "metadata": {
        "colab": {
          "base_uri": "https://localhost:8080/"
        },
        "id": "gSmPzj5st7p2",
        "outputId": "7027d951-41ce-49e7-b8b5-3c14e5eb8dcb"
      },
      "source": [
        "# 정확도(accuracy): 실제값과 예측값이 얼마나 같으냐\n",
        "np.mean(y_train_5 == y_train_5_pred)"
      ],
      "execution_count": 24,
      "outputs": [
        {
          "output_type": "execute_result",
          "data": {
            "text/plain": [
              "0.9685333333333334"
            ]
          },
          "metadata": {
            "tags": []
          },
          "execution_count": 24
        }
      ]
    },
    {
      "cell_type": "markdown",
      "metadata": {
        "id": "o2xYnWhwvoRL"
      },
      "source": [
        "# 분류(classification)의 평가 지표(metrics)"
      ]
    },
    {
      "cell_type": "code",
      "metadata": {
        "id": "JyDb-zYWvgve"
      },
      "source": [
        "# 오차 행렬, 혼동 행렬(confusion matrix)\n",
        "from sklearn.metrics import confusion_matrix"
      ],
      "execution_count": 25,
      "outputs": []
    },
    {
      "cell_type": "code",
      "metadata": {
        "colab": {
          "base_uri": "https://localhost:8080/"
        },
        "id": "Lc9dHSiFv2Ja",
        "outputId": "befb5a54-b76b-4860-942f-4381b06cebd2"
      },
      "source": [
        "conf_mat = confusion_matrix(y_true=y_train_5,       # 실제 값(레이블)\n",
        "                            y_pred=y_train_5_pred)  # 예측 값\n",
        "conf_mat"
      ],
      "execution_count": 27,
      "outputs": [
        {
          "output_type": "execute_result",
          "data": {
            "text/plain": [
              "array([[53381,  1198],\n",
              "       [  690,  4731]])"
            ]
          },
          "metadata": {
            "tags": []
          },
          "execution_count": 27
        }
      ]
    },
    {
      "cell_type": "markdown",
      "metadata": {
        "id": "lG9HIu0-x-Qk"
      },
      "source": [
        "* TN(True Negative, 진음성): 실제 음성을 음성으로 예측\n",
        "* FP(False Positive, 가양성): 실제 음성을 양성으로 잘못 예측\n",
        "* FN(False Negative, 가음성): 실제 양성을 음성으로 잘못 예측\n",
        "* TP(True Positive, 진양성): 실제 양성을 양성으로 예측"
      ]
    },
    {
      "cell_type": "code",
      "metadata": {
        "id": "2AhrSUP_wQpG"
      },
      "source": [
        "tn, fp = conf_mat[0, 0], conf_mat[0, 1]\n",
        "fn, tp = conf_mat[1, 0], conf_mat[1, 1]"
      ],
      "execution_count": 28,
      "outputs": []
    },
    {
      "cell_type": "code",
      "metadata": {
        "colab": {
          "base_uri": "https://localhost:8080/"
        },
        "id": "8TmTAkvl3sOs",
        "outputId": "bc15fde7-08fd-4b34-e68f-d9b7737579c4"
      },
      "source": [
        "# 정확도(accuracy): 전체 샘플들을 정확히 분류한 비율.\n",
        "accuracy = (tn + tp) / (tn + fp + fn + tp)\n",
        "accuracy"
      ],
      "execution_count": 29,
      "outputs": [
        {
          "output_type": "execute_result",
          "data": {
            "text/plain": [
              "0.9685333333333334"
            ]
          },
          "metadata": {
            "tags": []
          },
          "execution_count": 29
        }
      ]
    },
    {
      "cell_type": "code",
      "metadata": {
        "colab": {
          "base_uri": "https://localhost:8080/"
        },
        "id": "mBcww1TX4drN",
        "outputId": "0a83af4a-075c-4a56-b13e-8d0b31c605a3"
      },
      "source": [
        "from sklearn.metrics import accuracy_score\n",
        "\n",
        "acc = accuracy_score(y_true=y_train_5, y_pred=y_train_5_pred)\n",
        "acc"
      ],
      "execution_count": 31,
      "outputs": [
        {
          "output_type": "execute_result",
          "data": {
            "text/plain": [
              "0.9685333333333334"
            ]
          },
          "metadata": {
            "tags": []
          },
          "execution_count": 31
        }
      ]
    },
    {
      "cell_type": "code",
      "metadata": {
        "colab": {
          "base_uri": "https://localhost:8080/"
        },
        "id": "GEbuTuZE5Btz",
        "outputId": "2addc6c3-517f-4c87-fdd4-c50b4ea81d59"
      },
      "source": [
        "# 정밀도(precision): 양성(positive) 예측들 중에서 정답의 비율\n",
        "precision = tp / (fp + tp)\n",
        "precision"
      ],
      "execution_count": 32,
      "outputs": [
        {
          "output_type": "execute_result",
          "data": {
            "text/plain": [
              "0.7979423174228369"
            ]
          },
          "metadata": {
            "tags": []
          },
          "execution_count": 32
        }
      ]
    },
    {
      "cell_type": "code",
      "metadata": {
        "colab": {
          "base_uri": "https://localhost:8080/"
        },
        "id": "jc1eNpO25-KC",
        "outputId": "03a3bdcc-bd5b-4598-998c-ed1ebfa8f72e"
      },
      "source": [
        "from sklearn.metrics import precision_score\n",
        "\n",
        "precision = precision_score(y_true=y_train_5, y_pred=y_train_5_pred)\n",
        "precision"
      ],
      "execution_count": 34,
      "outputs": [
        {
          "output_type": "execute_result",
          "data": {
            "text/plain": [
              "0.7979423174228369"
            ]
          },
          "metadata": {
            "tags": []
          },
          "execution_count": 34
        }
      ]
    },
    {
      "cell_type": "code",
      "metadata": {
        "colab": {
          "base_uri": "https://localhost:8080/"
        },
        "id": "flDoCeG16V3q",
        "outputId": "2b304989-4355-4c84-ad25-794c661dbab2"
      },
      "source": [
        "# 재현율(recall), 민감도(sensitivity), TPR(True Positive Rate, 진양성 비율)\n",
        "# 실제 양성 샘플들 중에서 정답의 비율\n",
        "recall = tp / (fn + tp)\n",
        "recall"
      ],
      "execution_count": 35,
      "outputs": [
        {
          "output_type": "execute_result",
          "data": {
            "text/plain": [
              "0.8727172108467073"
            ]
          },
          "metadata": {
            "tags": []
          },
          "execution_count": 35
        }
      ]
    },
    {
      "cell_type": "code",
      "metadata": {
        "colab": {
          "base_uri": "https://localhost:8080/"
        },
        "id": "oyMNI1IF63Lw",
        "outputId": "7cd73961-69c6-452d-e7d6-52446c76143d"
      },
      "source": [
        "from sklearn.metrics import recall_score\n",
        "\n",
        "recall = recall_score(y_true=y_train_5, y_pred=y_train_5_pred)\n",
        "recall"
      ],
      "execution_count": 36,
      "outputs": [
        {
          "output_type": "execute_result",
          "data": {
            "text/plain": [
              "0.8727172108467073"
            ]
          },
          "metadata": {
            "tags": []
          },
          "execution_count": 36
        }
      ]
    },
    {
      "cell_type": "code",
      "metadata": {
        "colab": {
          "base_uri": "https://localhost:8080/"
        },
        "id": "kaDXgoB27fkn",
        "outputId": "f5b5c5b7-781f-4944-ac1c-da70729e16ee"
      },
      "source": [
        "# F1 score: 정밀도와 재현율의 조화 평균\n",
        "f1 = 2 / (1/precision + 1/recall)\n",
        "f1"
      ],
      "execution_count": 38,
      "outputs": [
        {
          "output_type": "execute_result",
          "data": {
            "text/plain": [
              "0.8336563876651982"
            ]
          },
          "metadata": {
            "tags": []
          },
          "execution_count": 38
        }
      ]
    },
    {
      "cell_type": "code",
      "metadata": {
        "colab": {
          "base_uri": "https://localhost:8080/"
        },
        "id": "Y4d7BRgs8YpL",
        "outputId": "5154263a-750f-466f-d348-fee0df868878"
      },
      "source": [
        "from sklearn.metrics import f1_score\n",
        "\n",
        "f1 = f1_score(y_true=y_train_5, y_pred=y_train_5_pred)\n",
        "f1"
      ],
      "execution_count": 40,
      "outputs": [
        {
          "output_type": "execute_result",
          "data": {
            "text/plain": [
              "0.8336563876651982"
            ]
          },
          "metadata": {
            "tags": []
          },
          "execution_count": 40
        }
      ]
    },
    {
      "cell_type": "markdown",
      "metadata": {
        "id": "s2-kQD3C88uT"
      },
      "source": [
        "* 정밀도/재현율 트레이드오프(precsion/recall trade-off)\n",
        "    * 일반적으로 정밀도 좋아지면, 재현율은 나빠짐."
      ]
    },
    {
      "cell_type": "code",
      "metadata": {
        "id": "_EIq4e2E8h_H"
      },
      "source": [
        "from sklearn.model_selection import cross_val_predict"
      ],
      "execution_count": 41,
      "outputs": []
    },
    {
      "cell_type": "code",
      "metadata": {
        "colab": {
          "base_uri": "https://localhost:8080/"
        },
        "id": "ju8b9uuw9n7p",
        "outputId": "b4e42eec-985b-412e-9dd5-484a4dd85023"
      },
      "source": [
        "predictions = cross_val_predict(estimator=SGDClassifier(random_state=1),  # 머신러닝 모델\n",
        "                                X=X_train,  # 훈련 셋\n",
        "                                y=y_train_5,  # 훈련 레이블(타겟)\n",
        "                                cv=3,  # 교차 검증 횟수(fold)\n",
        "                                method='predict')  # 예측값 리턴\n",
        "predictions"
      ],
      "execution_count": 42,
      "outputs": [
        {
          "output_type": "execute_result",
          "data": {
            "text/plain": [
              "array([ True, False, False, ...,  True, False, False])"
            ]
          },
          "metadata": {
            "tags": []
          },
          "execution_count": 42
        }
      ]
    },
    {
      "cell_type": "code",
      "metadata": {
        "colab": {
          "base_uri": "https://localhost:8080/"
        },
        "id": "3VfCZWtD-2OW",
        "outputId": "8f3732de-665f-4069-ac06-e98c15c69a7f"
      },
      "source": [
        "pred_scores = cross_val_predict(estimator=SGDClassifier(random_state=1),\n",
        "                                X=X_train,\n",
        "                                y=y_train_5,\n",
        "                                cv=3,\n",
        "                                method='decision_function')\n",
        "pred_scores"
      ],
      "execution_count": 43,
      "outputs": [
        {
          "output_type": "execute_result",
          "data": {
            "text/plain": [
              "array([  8536.87948485,  -9930.42427547, -34430.63925683, ...,\n",
              "         6041.93526298,  -4785.17366605,  -8938.21271251])"
            ]
          },
          "metadata": {
            "tags": []
          },
          "execution_count": 43
        }
      ]
    },
    {
      "cell_type": "code",
      "metadata": {
        "id": "4VN6XW0M_uFn"
      },
      "source": [
        "# 정밀도/재현율 곡선\n",
        "from sklearn.metrics import precision_recall_curve"
      ],
      "execution_count": 44,
      "outputs": []
    },
    {
      "cell_type": "code",
      "metadata": {
        "colab": {
          "base_uri": "https://localhost:8080/"
        },
        "id": "dxo0z0SQVYFl",
        "outputId": "d463632d-e995-4d62-d55b-788a0e23ef49"
      },
      "source": [
        "precisions, recalls, thresholds = \\\n",
        "        precision_recall_curve(y_true=y_train_5,\n",
        "                               probas_pred=pred_scores)\n",
        "\n",
        "len(precisions), len(recalls), len(thresholds)"
      ],
      "execution_count": 45,
      "outputs": [
        {
          "output_type": "execute_result",
          "data": {
            "text/plain": [
              "(59586, 59586, 59585)"
            ]
          },
          "metadata": {
            "tags": []
          },
          "execution_count": 45
        }
      ]
    },
    {
      "cell_type": "code",
      "metadata": {
        "colab": {
          "base_uri": "https://localhost:8080/",
          "height": 279
        },
        "id": "I0JugZmxXBXd",
        "outputId": "131d560e-c744-4164-97dc-690d1eedd362"
      },
      "source": [
        "# precision/recall vs threshold 그래프\n",
        "# threshold의 값에 따른 정밀도와 재현율의 변화\n",
        "plt.figure(figsize=(8, 4))\n",
        "plt.plot(thresholds, precisions[:-1], 'b--', label='precision')\n",
        "# 'b--': color=blue, linestyle=dashed\n",
        "plt.plot(thresholds, recalls[:-1], 'g-', label='recall')\n",
        "# 'g-': color=green, linestyle=solid\n",
        "\n",
        "plt.grid()\n",
        "plt.legend()  # 범례 보여주기\n",
        "plt.xlabel('Thresholds')\n",
        "plt.show()"
      ],
      "execution_count": 54,
      "outputs": [
        {
          "output_type": "display_data",
          "data": {
            "image/png": "[encoded data removed]",
            "text/plain": [
              "<Figure size 576x288 with 1 Axes>"
            ]
          },
          "metadata": {
            "tags": [],
            "needs_background": "light"
          }
        }
      ]
    },
    {
      "cell_type": "code",
      "metadata": {
        "colab": {
          "base_uri": "https://localhost:8080/",
          "height": 279
        },
        "id": "oBjLLnMBbT8c",
        "outputId": "52fcb7fa-9df2-40b8-947b-9ddca8bd5e20"
      },
      "source": [
        "# Precsion vs Recall curve\n",
        "plt.plot(recalls, precisions, 'b-')\n",
        "# plt.axhline(y=0.9, c='red', ls='dashed')\n",
        "\n",
        "plt.grid(True)\n",
        "plt.xlabel('Recall')\n",
        "plt.ylabel('Precision')\n",
        "plt.show()"
      ],
      "execution_count": 56,
      "outputs": [
        {
          "output_type": "display_data",
          "data": {
            "image/png": "[encoded data removed]",
            "text/plain": [
              "<Figure size 432x288 with 1 Axes>"
            ]
          },
          "metadata": {
            "tags": [],
            "needs_background": "light"
          }
        }
      ]
    },
    {
      "cell_type": "markdown",
      "metadata": {
        "id": "eKRa3J1PfdCu"
      },
      "source": [
        "# ROC(Receiver Operating Characteristic) Curve\n",
        "\n",
        "* FPR(False Positive Rate, 가양성 비율)에 대한 TPR(True Posite Rate, 진양성 비율) 곡선\n",
        "* TPR = Recall = TP / (FN + TP): 실제 양성 샘플들 중에서 양성 예측(정답)의 비율\n",
        "* TNR = TN / (TN + FP): 실제 음성 샘플들 중에서 음성 예측(정답)의 비율\n",
        "* FPR = 1 - TNR = FP / (TN + FP): 실제 음성 샘플들 중에서 양성 예측(오답)의 비율"
      ]
    },
    {
      "cell_type": "code",
      "metadata": {
        "id": "_3nqL3r5bdzw"
      },
      "source": [
        "from sklearn.metrics import roc_curve"
      ],
      "execution_count": 57,
      "outputs": []
    },
    {
      "cell_type": "code",
      "metadata": {
        "id": "1zlSEmLWiUeT"
      },
      "source": [
        "fpr, tpr, thresholds = roc_curve(y_true=y_train_5, \n",
        "                                 y_score=pred_scores)"
      ],
      "execution_count": 58,
      "outputs": []
    },
    {
      "cell_type": "code",
      "metadata": {
        "colab": {
          "base_uri": "https://localhost:8080/",
          "height": 279
        },
        "id": "zVNFDHlvi2nI",
        "outputId": "a90375db-c26b-4d7c-fe42-e9076a381238"
      },
      "source": [
        "plt.plot(fpr, tpr)\n",
        "\n",
        "plt.grid()\n",
        "plt.xlabel('False Positive Rate')\n",
        "plt.ylabel('True Positive Rate')\n",
        "plt.show()"
      ],
      "execution_count": 61,
      "outputs": [
        {
          "output_type": "display_data",
          "data": {
            "image/png": "[encoded data removed]",
            "text/plain": [
              "<Figure size 432x288 with 1 Axes>"
            ]
          },
          "metadata": {
            "tags": [],
            "needs_background": "light"
          }
        }
      ]
    },
    {
      "cell_type": "code",
      "metadata": {
        "colab": {
          "base_uri": "https://localhost:8080/"
        },
        "id": "bxZItWR_j2Ba",
        "outputId": "30f1cbb2-ed2c-4adb-9b45-92b2fdf8eb31"
      },
      "source": [
        "# AUC(Area Under the Curve): ROC 곡선 아래 넓이\n",
        "# AUC 1에 가까울 수록 좋은 모델\n",
        "from sklearn.metrics import roc_auc_score\n",
        "\n",
        "roc_auc_score(y_true=y_train_5, y_score=pred_scores)"
      ],
      "execution_count": 62,
      "outputs": [
        {
          "output_type": "execute_result",
          "data": {
            "text/plain": [
              "0.962647024223004"
            ]
          },
          "metadata": {
            "tags": []
          },
          "execution_count": 62
        }
      ]
    },
    {
      "cell_type": "markdown",
      "metadata": {
        "id": "AIT51Ne2kjXp"
      },
      "source": [
        "* PR 곡선: 양성 클래스가 드물거나 가음성(FN)보다 가양성(FP)가 중요할 때 보통 사용.\n",
        "* ROC 곡선: 그렇지 않은 경우에는 일반적으로 roc를 사용."
      ]
    },
    {
      "cell_type": "code",
      "metadata": {
        "id": "OKSRgLIhkSYF"
      },
      "source": [
        "# SGC 분류기와 랜덤 포레스트 분류기와 비교\n",
        "from sklearn.ensemble import RandomForestClassifier"
      ],
      "execution_count": 63,
      "outputs": []
    },
    {
      "cell_type": "code",
      "metadata": {
        "id": "amtZu_iumDri"
      },
      "source": [
        "forest_clf = RandomForestClassifier(random_state=1)"
      ],
      "execution_count": 64,
      "outputs": []
    },
    {
      "cell_type": "code",
      "metadata": {
        "id": "toQPZyc7mTo7"
      },
      "source": [
        "forest_pred_scores = cross_val_predict(estimator=forest_clf,\n",
        "                                       X=X_train,\n",
        "                                       y=y_train_5,\n",
        "                                       cv=3,\n",
        "                                       method='predict_proba')"
      ],
      "execution_count": 65,
      "outputs": []
    },
    {
      "cell_type": "code",
      "metadata": {
        "colab": {
          "base_uri": "https://localhost:8080/"
        },
        "id": "ae6X0pn_nArJ",
        "outputId": "f2c9e056-7291-4824-a69b-6ccc95690933"
      },
      "source": [
        "forest_pred_scores\n",
        "# 60,000개 훈련 셋의 [prob(negative), prob(positive)]"
      ],
      "execution_count": 66,
      "outputs": [
        {
          "output_type": "execute_result",
          "data": {
            "text/plain": [
              "array([[0.07, 0.93],\n",
              "       [0.98, 0.02],\n",
              "       [0.96, 0.04],\n",
              "       ...,\n",
              "       [0.  , 1.  ],\n",
              "       [0.92, 0.08],\n",
              "       [0.94, 0.06]])"
            ]
          },
          "metadata": {
            "tags": []
          },
          "execution_count": 66
        }
      ]
    },
    {
      "cell_type": "code",
      "metadata": {
        "colab": {
          "base_uri": "https://localhost:8080/"
        },
        "id": "VoZNHGBfnqzw",
        "outputId": "41583a63-ae8d-43d9-a720-cc255969af71"
      },
      "source": [
        "forest_pred_scores.shape"
      ],
      "execution_count": 67,
      "outputs": [
        {
          "output_type": "execute_result",
          "data": {
            "text/plain": [
              "(60000, 2)"
            ]
          },
          "metadata": {
            "tags": []
          },
          "execution_count": 67
        }
      ]
    },
    {
      "cell_type": "code",
      "metadata": {
        "colab": {
          "base_uri": "https://localhost:8080/",
          "height": 265
        },
        "id": "7TTqZhAtopEY",
        "outputId": "9439fa0f-4453-42ab-9e73-3e8c60d21065"
      },
      "source": [
        "# Random Forest의 ROC 곡선\n",
        "forest_fpr, forest_tpr, _ = roc_curve(y_true=y_train_5,\n",
        "                                      y_score=forest_pred_scores[:, 1])\n",
        "\n",
        "plt.plot(forest_fpr, forest_tpr)\n",
        "plt.grid()\n",
        "plt.show()"
      ],
      "execution_count": 69,
      "outputs": [
        {
          "output_type": "display_data",
          "data": {
            "image/png": "[encoded data removed]",
            "text/plain": [
              "<Figure size 432x288 with 1 Axes>"
            ]
          },
          "metadata": {
            "tags": [],
            "needs_background": "light"
          }
        }
      ]
    },
    {
      "cell_type": "code",
      "metadata": {
        "colab": {
          "base_uri": "https://localhost:8080/",
          "height": 265
        },
        "id": "jg_UJ2zfp-eJ",
        "outputId": "c34066f0-1127-4b26-8b46-03cfdda281da"
      },
      "source": [
        "# Random Forest의 PR 곡선\n",
        "forest_prec, forest_rec, _ = \\\n",
        "        precision_recall_curve(y_true=y_train_5, \n",
        "                               probas_pred=forest_pred_scores[:, 1])\n",
        "        \n",
        "plt.plot(forest_rec, forest_prec)\n",
        "plt.grid()\n",
        "plt.show()"
      ],
      "execution_count": 70,
      "outputs": [
        {
          "output_type": "display_data",
          "data": {
            "image/png": "[encoded data removed]",
            "text/plain": [
              "<Figure size 432x288 with 1 Axes>"
            ]
          },
          "metadata": {
            "tags": [],
            "needs_background": "light"
          }
        }
      ]
    }
  ]
}